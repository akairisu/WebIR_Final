{
 "cells": [
  {
   "cell_type": "code",
   "execution_count": 73,
   "metadata": {},
   "outputs": [],
   "source": [
    "import pandas as pd\n",
    "import numpy as np\n",
    "import os\n",
    "import string\n",
    "import re\n",
    "from collections import Counter"
   ]
  },
  {
   "cell_type": "code",
   "execution_count": 80,
   "metadata": {},
   "outputs": [],
   "source": [
    "PATH_BOOKS_DESCRIPTIONS = \"./data/descriptions\"\n",
    "PATH_BOOKS_IF_CSV = \"./data/IF_CSV\"\n",
    "PATH_CORPUS_IF = \"./data/corpus/corpus_IF.csv\""
   ]
  },
  {
   "cell_type": "code",
   "execution_count": 75,
   "metadata": {},
   "outputs": [],
   "source": [
    "def _write_dict_to_csv(d, file_name):\n",
    "    CSV =\"\\n\".join([k+','+str(v) for k,v in d.items()])\n",
    "    with open(f'{PATH_BOOKS_IF_CSV}/{file_name}.csv', 'w', encoding='cp1252', errors='ignore') as file:\n",
    "        file.write(CSV)"
   ]
  },
  {
   "cell_type": "code",
   "execution_count": 76,
   "metadata": {},
   "outputs": [],
   "source": [
    "def _create_IF(file):\n",
    "    IF = {}\n",
    "    f = open(f'{PATH_BOOKS_DESCRIPTIONS}/{file}','r', encoding='cp1252', errors='ignore')\n",
    "    file_text = f.read()\n",
    "    \n",
    "    for w in file_text.split():\n",
    "        w = re.sub(r'[^A-Za-z0-9\\s]+', '', w)\n",
    "        if w in IF:\n",
    "            IF[w] += 1\n",
    "        else:\n",
    "            IF[w] = 1\n",
    "    \n",
    "    f.close()\n",
    "    \n",
    "    return IF"
   ]
  },
  {
   "cell_type": "code",
   "execution_count": 77,
   "metadata": {},
   "outputs": [],
   "source": [
    "def _create_files_IF(files):\n",
    "    corpus_IF = {}\n",
    "    \n",
    "    for index, file in enumerate(files):\n",
    "        IF = _create_IF(file)\n",
    "        corpus_IF = Counter(corpus_IF) + Counter(IF)\n",
    "        clean_file_name = file.replace('.txt', '')\n",
    "        _write_dict_to_csv(IF, clean_file_name)\n",
    "        \n",
    "    _write_dict_to_csv(dict(corpus_IF), 'corpus_IF')"
   ]
  },
  {
   "cell_type": "code",
   "execution_count": 78,
   "metadata": {},
   "outputs": [],
   "source": [
    "def _create_corpus_IF():\n",
    "    IF = {}\n",
    "    files = os.listdir(PATH_BOOKS_DESCRIPTIONS)\n",
    "\n",
    "    for index, file in enumerate(files):\n",
    "        _create_IF(file)\n",
    "    f = open(f'{PATH_BOOKS_DESCRIPTIONS}/{file}','r', encoding='cp1252', errors='ignore')"
   ]
  },
  {
   "cell_type": "code",
   "execution_count": 130,
   "metadata": {},
   "outputs": [],
   "source": [
    "def _create_df():\n",
    "    IF = {}\n",
    "    terms = set(pd.read_csv(PATH_CORPUS_IF, names=['word', 'count'])['word'])\n",
    "    files = os.listdir(PATH_BOOKS_IF_CSV)\n",
    "\n",
    "    for index, file in enumerate(files):\n",
    "        file_id = file.replace('.csv', '')\n",
    "        d_terms = pd.read_csv(f'{PATH_BOOKS_IF_CSV}/{file}', names=['word', 'count'])['word']\n",
    "        local_check = set()\n",
    "        for t in d_terms:\n",
    "            if t in local_check:\n",
    "                continue\n",
    "            else:\n",
    "                local_check.add(t)\n",
    "            if t in IF:\n",
    "                IF[t] += 1\n",
    "            else:\n",
    "                IF[t] = 1\n",
    "        \n",
    "    \n",
    "    return IF"
   ]
  },
  {
   "cell_type": "code",
   "execution_count": 131,
   "metadata": {},
   "outputs": [],
   "source": [
    "df_doc = _create_df()"
   ]
  },
  {
   "cell_type": "code",
   "execution_count": 133,
   "metadata": {},
   "outputs": [],
   "source": [
    "CSV =\"\\n\".join([str(k)+','+str(v) for k,v in df_doc.items()])\n",
    "with open(f'./data/corpus/df.csv', 'w', encoding='cp1252', errors='ignore') as file:\n",
    "    file.write(CSV)"
   ]
  }
 ],
 "metadata": {
  "kernelspec": {
   "display_name": "Python 3",
   "language": "python",
   "name": "python3"
  },
  "language_info": {
   "codemirror_mode": {
    "name": "ipython",
    "version": 3
   },
   "file_extension": ".py",
   "mimetype": "text/x-python",
   "name": "python",
   "nbconvert_exporter": "python",
   "pygments_lexer": "ipython3",
   "version": "3.7.3"
  }
 },
 "nbformat": 4,
 "nbformat_minor": 4
}
