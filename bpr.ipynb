{
 "cells": [
  {
   "cell_type": "code",
   "execution_count": 1,
   "id": "cb1e4bda",
   "metadata": {},
   "outputs": [],
   "source": [
    "import os\n",
    "os.environ['CUDA_VISIBLE_DEVICES'] = '2'"
   ]
  },
  {
   "cell_type": "code",
   "execution_count": 2,
   "id": "7be1762e",
   "metadata": {},
   "outputs": [],
   "source": [
    "from scipy import sparse\n",
    "import numpy as np\n",
    "import torch\n",
    "import torch.nn as nn\n",
    "from torch.utils.data import TensorDataset, Dataset, DataLoader\n",
    "from MF import MF\n",
    "import random\n",
    "from tqdm import tqdm\n",
    "from sklearn.model_selection import train_test_split\n",
    "import pandas as pd\n",
    "import math"
   ]
  },
  {
   "cell_type": "code",
   "execution_count": 3,
   "id": "855b3a60",
   "metadata": {},
   "outputs": [],
   "source": [
    "matrix = sparse.load_npz('rating_matrix.npz')\n",
    "train_matrix = (matrix > 3)"
   ]
  },
  {
   "cell_type": "code",
   "execution_count": 4,
   "id": "455f1e1b",
   "metadata": {},
   "outputs": [],
   "source": [
    "class dataset(Dataset):\n",
    "    def __init__(self, mat):\n",
    "        mat = mat.tocoo()\n",
    "        self.tuples = np.array([mat.row, mat.col]).T\n",
    "        mat = mat.tocsr()\n",
    "        self.pos_items = []\n",
    "        for i in range(mat.shape[0]):\n",
    "            self.pos_items.append(mat[i].indices)\n",
    "        self.num_items = mat.shape[1]\n",
    "    \n",
    "    def __len__(self):\n",
    "        return len(self.tuples)\n",
    "    \n",
    "    def __getitem__(self, index):\n",
    "        u, i = self.tuples[index]\n",
    "        j = np.random.randint(self.num_items)\n",
    "        while j in self.pos_items[u]:\n",
    "            j = np.random.randint(self.num_items)\n",
    "        return u, i, j"
   ]
  },
  {
   "cell_type": "code",
   "execution_count": 5,
   "id": "f45dca70",
   "metadata": {},
   "outputs": [],
   "source": [
    "train_dataset = dataset(train_matrix)\n",
    "train_dataloader = DataLoader(train_dataset, batch_size=256, shuffle=True, num_workers=8)"
   ]
  },
  {
   "cell_type": "code",
   "execution_count": 4,
   "id": "ccda2d57",
   "metadata": {
    "scrolled": true
   },
   "outputs": [
    {
     "name": "stdout",
     "output_type": "stream",
     "text": [
      "53424 10000\n"
     ]
    }
   ],
   "source": [
    "(num_users, num_books) = train_matrix.shape\n",
    "print(num_users, num_books)\n",
    "num_factors = 1024\n",
    "model = MF(num_users, num_books, n_factors=num_factors).cuda()"
   ]
  },
  {
   "cell_type": "code",
   "execution_count": 7,
   "id": "b84e67fe",
   "metadata": {},
   "outputs": [
    {
     "data": {
      "text/plain": [
       "<All keys matched successfully>"
      ]
     },
     "execution_count": 7,
     "metadata": {},
     "output_type": "execute_result"
    }
   ],
   "source": [
    "model.load_state_dict(torch.load(f'BPR_model_{num_factors}_100.pth'))"
   ]
  },
  {
   "cell_type": "code",
   "execution_count": 8,
   "id": "53d8feb5",
   "metadata": {
    "scrolled": true
   },
   "outputs": [
    {
     "name": "stderr",
     "output_type": "stream",
     "text": [
      "100%|██████████| 16102/16102 [02:28<00:00, 108.26it/s, loss=8.756596] \n"
     ]
    },
    {
     "name": "stdout",
     "output_type": "stream",
     "text": [
      "8.440561296214023\n"
     ]
    },
    {
     "name": "stderr",
     "output_type": "stream",
     "text": [
      "100%|██████████| 16102/16102 [02:29<00:00, 108.03it/s, loss=7.868371] \n"
     ]
    },
    {
     "name": "stdout",
     "output_type": "stream",
     "text": [
      "8.29432699169791\n"
     ]
    },
    {
     "name": "stderr",
     "output_type": "stream",
     "text": [
      "100%|██████████| 16102/16102 [02:28<00:00, 108.54it/s, loss=5.617651] \n"
     ]
    },
    {
     "name": "stdout",
     "output_type": "stream",
     "text": [
      "8.146777162328593\n"
     ]
    },
    {
     "name": "stderr",
     "output_type": "stream",
     "text": [
      "100%|██████████| 16102/16102 [02:27<00:00, 109.28it/s, loss=5.456594] \n"
     ]
    },
    {
     "name": "stdout",
     "output_type": "stream",
     "text": [
      "8.045520806146726\n"
     ]
    },
    {
     "name": "stderr",
     "output_type": "stream",
     "text": [
      "100%|██████████| 16102/16102 [02:27<00:00, 108.86it/s, loss=8.449814] \n"
     ]
    },
    {
     "name": "stdout",
     "output_type": "stream",
     "text": [
      "7.912617197097155\n"
     ]
    },
    {
     "name": "stderr",
     "output_type": "stream",
     "text": [
      "100%|██████████| 16102/16102 [02:39<00:00, 101.21it/s, loss=6.338704] \n"
     ]
    },
    {
     "name": "stdout",
     "output_type": "stream",
     "text": [
      "7.824380004365997\n"
     ]
    },
    {
     "name": "stderr",
     "output_type": "stream",
     "text": [
      "100%|██████████| 16102/16102 [02:28<00:00, 108.25it/s, loss=8.823460] \n"
     ]
    },
    {
     "name": "stdout",
     "output_type": "stream",
     "text": [
      "7.764679207015283\n"
     ]
    },
    {
     "name": "stderr",
     "output_type": "stream",
     "text": [
      "100%|██████████| 16102/16102 [02:28<00:00, 108.29it/s, loss=8.780653] \n"
     ]
    },
    {
     "name": "stdout",
     "output_type": "stream",
     "text": [
      "7.625616282857645\n"
     ]
    },
    {
     "name": "stderr",
     "output_type": "stream",
     "text": [
      "100%|██████████| 16102/16102 [02:27<00:00, 108.90it/s, loss=8.517543] \n"
     ]
    },
    {
     "name": "stdout",
     "output_type": "stream",
     "text": [
      "7.5447602927381245\n"
     ]
    },
    {
     "name": "stderr",
     "output_type": "stream",
     "text": [
      "100%|██████████| 16102/16102 [02:28<00:00, 108.39it/s, loss=5.388515] \n"
     ]
    },
    {
     "name": "stdout",
     "output_type": "stream",
     "text": [
      "7.462567429530104\n"
     ]
    },
    {
     "name": "stderr",
     "output_type": "stream",
     "text": [
      "100%|██████████| 16102/16102 [02:28<00:00, 108.55it/s, loss=6.618046] \n"
     ]
    },
    {
     "name": "stdout",
     "output_type": "stream",
     "text": [
      "7.3776065482662085\n"
     ]
    },
    {
     "name": "stderr",
     "output_type": "stream",
     "text": [
      "100%|██████████| 16102/16102 [02:28<00:00, 108.23it/s, loss=11.584841]\n"
     ]
    },
    {
     "name": "stdout",
     "output_type": "stream",
     "text": [
      "7.302801439546233\n"
     ]
    },
    {
     "name": "stderr",
     "output_type": "stream",
     "text": [
      "100%|██████████| 16102/16102 [02:28<00:00, 108.50it/s, loss=6.185818] \n"
     ]
    },
    {
     "name": "stdout",
     "output_type": "stream",
     "text": [
      "7.20869353267365\n"
     ]
    },
    {
     "name": "stderr",
     "output_type": "stream",
     "text": [
      "100%|██████████| 16102/16102 [02:28<00:00, 108.72it/s, loss=6.035801] \n"
     ]
    },
    {
     "name": "stdout",
     "output_type": "stream",
     "text": [
      "7.120680938010156\n"
     ]
    },
    {
     "name": "stderr",
     "output_type": "stream",
     "text": [
      "100%|██████████| 16102/16102 [02:39<00:00, 101.19it/s, loss=8.195656] \n"
     ]
    },
    {
     "name": "stdout",
     "output_type": "stream",
     "text": [
      "7.027724953915462\n"
     ]
    },
    {
     "name": "stderr",
     "output_type": "stream",
     "text": [
      "100%|██████████| 16102/16102 [02:50<00:00, 94.49it/s, loss=8.079040]  \n"
     ]
    },
    {
     "name": "stdout",
     "output_type": "stream",
     "text": [
      "6.9610608343070615\n"
     ]
    },
    {
     "name": "stderr",
     "output_type": "stream",
     "text": [
      "100%|██████████| 16102/16102 [02:51<00:00, 94.10it/s, loss=6.980142]  \n"
     ]
    },
    {
     "name": "stdout",
     "output_type": "stream",
     "text": [
      "6.895409392867824\n"
     ]
    },
    {
     "name": "stderr",
     "output_type": "stream",
     "text": [
      "100%|██████████| 16102/16102 [02:28<00:00, 108.51it/s, loss=5.299489] \n"
     ]
    },
    {
     "name": "stdout",
     "output_type": "stream",
     "text": [
      "6.812372577692349\n"
     ]
    },
    {
     "name": "stderr",
     "output_type": "stream",
     "text": [
      "100%|██████████| 16102/16102 [02:28<00:00, 108.09it/s, loss=8.165319] \n"
     ]
    },
    {
     "name": "stdout",
     "output_type": "stream",
     "text": [
      "6.6945948141241\n"
     ]
    },
    {
     "name": "stderr",
     "output_type": "stream",
     "text": [
      "100%|██████████| 16102/16102 [02:28<00:00, 108.28it/s, loss=4.453620] \n"
     ]
    },
    {
     "name": "stdout",
     "output_type": "stream",
     "text": [
      "6.647986720103149\n"
     ]
    },
    {
     "name": "stderr",
     "output_type": "stream",
     "text": [
      "100%|██████████| 16102/16102 [02:28<00:00, 108.17it/s, loss=9.882299] \n"
     ]
    },
    {
     "name": "stdout",
     "output_type": "stream",
     "text": [
      "6.590878767799019\n"
     ]
    },
    {
     "name": "stderr",
     "output_type": "stream",
     "text": [
      "100%|██████████| 16102/16102 [02:28<00:00, 108.53it/s, loss=5.276668] \n"
     ]
    },
    {
     "name": "stdout",
     "output_type": "stream",
     "text": [
      "6.516164936222448\n"
     ]
    },
    {
     "name": "stderr",
     "output_type": "stream",
     "text": [
      "100%|██████████| 16102/16102 [02:28<00:00, 108.72it/s, loss=4.585057] \n"
     ]
    },
    {
     "name": "stdout",
     "output_type": "stream",
     "text": [
      "6.431759883159288\n"
     ]
    },
    {
     "name": "stderr",
     "output_type": "stream",
     "text": [
      "100%|██████████| 16102/16102 [02:28<00:00, 108.55it/s, loss=8.556438] \n"
     ]
    },
    {
     "name": "stdout",
     "output_type": "stream",
     "text": [
      "6.3458307199471635\n"
     ]
    },
    {
     "name": "stderr",
     "output_type": "stream",
     "text": [
      "100%|██████████| 16102/16102 [02:27<00:00, 108.94it/s, loss=5.896319] \n"
     ]
    },
    {
     "name": "stdout",
     "output_type": "stream",
     "text": [
      "6.302593303324939\n"
     ]
    },
    {
     "name": "stderr",
     "output_type": "stream",
     "text": [
      "100%|██████████| 16102/16102 [02:32<00:00, 105.35it/s, loss=4.171910] \n"
     ]
    },
    {
     "name": "stdout",
     "output_type": "stream",
     "text": [
      "6.245694592826456\n"
     ]
    },
    {
     "name": "stderr",
     "output_type": "stream",
     "text": [
      "100%|██████████| 16102/16102 [02:50<00:00, 94.63it/s, loss=5.204963]  \n"
     ]
    },
    {
     "name": "stdout",
     "output_type": "stream",
     "text": [
      "6.149800194692736\n"
     ]
    },
    {
     "name": "stderr",
     "output_type": "stream",
     "text": [
      "100%|██████████| 16102/16102 [02:50<00:00, 94.43it/s, loss=5.398619]  \n"
     ]
    },
    {
     "name": "stdout",
     "output_type": "stream",
     "text": [
      "6.135352731913369\n"
     ]
    },
    {
     "name": "stderr",
     "output_type": "stream",
     "text": [
      "100%|██████████| 16102/16102 [02:50<00:00, 94.38it/s, loss=5.232207]  \n"
     ]
    },
    {
     "name": "stdout",
     "output_type": "stream",
     "text": [
      "6.014793191181475\n"
     ]
    },
    {
     "name": "stderr",
     "output_type": "stream",
     "text": [
      "100%|██████████| 16102/16102 [02:51<00:00, 93.95it/s, loss=5.723948]  \n"
     ]
    },
    {
     "name": "stdout",
     "output_type": "stream",
     "text": [
      "5.976185014685878\n"
     ]
    },
    {
     "name": "stderr",
     "output_type": "stream",
     "text": [
      "100%|██████████| 16102/16102 [02:49<00:00, 94.73it/s, loss=7.555933]  \n"
     ]
    },
    {
     "name": "stdout",
     "output_type": "stream",
     "text": [
      "5.928902546858406\n"
     ]
    },
    {
     "name": "stderr",
     "output_type": "stream",
     "text": [
      "100%|██████████| 16102/16102 [02:50<00:00, 94.61it/s, loss=6.592320]  \n"
     ]
    },
    {
     "name": "stdout",
     "output_type": "stream",
     "text": [
      "5.872322979676414\n"
     ]
    },
    {
     "name": "stderr",
     "output_type": "stream",
     "text": [
      "100%|██████████| 16102/16102 [02:49<00:00, 95.03it/s, loss=3.227235]  \n"
     ]
    },
    {
     "name": "stdout",
     "output_type": "stream",
     "text": [
      "5.779622205428168\n"
     ]
    },
    {
     "name": "stderr",
     "output_type": "stream",
     "text": [
      "100%|██████████| 16102/16102 [02:51<00:00, 94.13it/s, loss=4.562657]  \n"
     ]
    },
    {
     "name": "stdout",
     "output_type": "stream",
     "text": [
      "5.7532725927030475\n"
     ]
    },
    {
     "name": "stderr",
     "output_type": "stream",
     "text": [
      "100%|██████████| 16102/16102 [02:50<00:00, 94.56it/s, loss=7.860871]  \n"
     ]
    },
    {
     "name": "stdout",
     "output_type": "stream",
     "text": [
      "5.695649530203235\n"
     ]
    },
    {
     "name": "stderr",
     "output_type": "stream",
     "text": [
      "100%|██████████| 16102/16102 [02:51<00:00, 93.65it/s, loss=7.177601] \n"
     ]
    },
    {
     "name": "stdout",
     "output_type": "stream",
     "text": [
      "5.624919224756725\n"
     ]
    },
    {
     "name": "stderr",
     "output_type": "stream",
     "text": [
      "100%|██████████| 16102/16102 [02:50<00:00, 94.56it/s, loss=3.984082] \n"
     ]
    },
    {
     "name": "stdout",
     "output_type": "stream",
     "text": [
      "5.565980194481452\n"
     ]
    },
    {
     "name": "stderr",
     "output_type": "stream",
     "text": [
      "100%|██████████| 16102/16102 [02:50<00:00, 94.20it/s, loss=8.695886]  \n"
     ]
    },
    {
     "name": "stdout",
     "output_type": "stream",
     "text": [
      "5.526837580064234\n"
     ]
    },
    {
     "name": "stderr",
     "output_type": "stream",
     "text": [
      "100%|██████████| 16102/16102 [02:50<00:00, 94.47it/s, loss=5.263221]  \n"
     ]
    },
    {
     "name": "stdout",
     "output_type": "stream",
     "text": [
      "5.461366740143413\n"
     ]
    },
    {
     "name": "stderr",
     "output_type": "stream",
     "text": [
      "100%|██████████| 16102/16102 [02:49<00:00, 94.96it/s, loss=4.474452]  \n"
     ]
    },
    {
     "name": "stdout",
     "output_type": "stream",
     "text": [
      "5.404322966842559\n"
     ]
    },
    {
     "name": "stderr",
     "output_type": "stream",
     "text": [
      "100%|██████████| 16102/16102 [02:49<00:00, 95.15it/s, loss=5.375572]  \n"
     ]
    },
    {
     "name": "stdout",
     "output_type": "stream",
     "text": [
      "5.366068496480223\n"
     ]
    },
    {
     "name": "stderr",
     "output_type": "stream",
     "text": [
      "100%|██████████| 16102/16102 [02:49<00:00, 94.87it/s, loss=4.870200]  \n"
     ]
    },
    {
     "name": "stdout",
     "output_type": "stream",
     "text": [
      "5.310795578730357\n"
     ]
    },
    {
     "name": "stderr",
     "output_type": "stream",
     "text": [
      "100%|██████████| 16102/16102 [02:49<00:00, 95.01it/s, loss=4.716157]  \n"
     ]
    },
    {
     "name": "stdout",
     "output_type": "stream",
     "text": [
      "5.271576398071362\n"
     ]
    },
    {
     "name": "stderr",
     "output_type": "stream",
     "text": [
      "100%|██████████| 16102/16102 [02:49<00:00, 95.00it/s, loss=7.485892] \n"
     ]
    },
    {
     "name": "stdout",
     "output_type": "stream",
     "text": [
      "5.19836072825657\n"
     ]
    },
    {
     "name": "stderr",
     "output_type": "stream",
     "text": [
      "100%|██████████| 16102/16102 [02:49<00:00, 95.10it/s, loss=2.838324]  \n"
     ]
    },
    {
     "name": "stdout",
     "output_type": "stream",
     "text": [
      "5.155066901616407\n"
     ]
    },
    {
     "name": "stderr",
     "output_type": "stream",
     "text": [
      "100%|██████████| 16102/16102 [02:49<00:00, 95.05it/s, loss=4.979881]  \n"
     ]
    },
    {
     "name": "stdout",
     "output_type": "stream",
     "text": [
      "5.133332491239366\n"
     ]
    },
    {
     "name": "stderr",
     "output_type": "stream",
     "text": [
      "100%|██████████| 16102/16102 [02:49<00:00, 94.99it/s, loss=4.371506]  \n"
     ]
    },
    {
     "name": "stdout",
     "output_type": "stream",
     "text": [
      "5.062786182436554\n"
     ]
    },
    {
     "name": "stderr",
     "output_type": "stream",
     "text": [
      "100%|██████████| 16102/16102 [02:49<00:00, 94.88it/s, loss=3.695621]  \n"
     ]
    },
    {
     "name": "stdout",
     "output_type": "stream",
     "text": [
      "5.02133317187534\n"
     ]
    },
    {
     "name": "stderr",
     "output_type": "stream",
     "text": [
      "100%|██████████| 16102/16102 [02:49<00:00, 94.92it/s, loss=8.520086]  \n"
     ]
    },
    {
     "name": "stdout",
     "output_type": "stream",
     "text": [
      "4.981657166241741\n"
     ]
    },
    {
     "name": "stderr",
     "output_type": "stream",
     "text": [
      "100%|██████████| 16102/16102 [02:50<00:00, 94.44it/s, loss=4.487764]  \n"
     ]
    },
    {
     "name": "stdout",
     "output_type": "stream",
     "text": [
      "4.948647271215716\n"
     ]
    }
   ],
   "source": [
    "num_epochs = 50\n",
    "loss_func = nn.LogSigmoid()\n",
    "lr = 1e-2\n",
    "optimizer = torch.optim.SGD(model.parameters(), lr=lr, weight_decay=1e-5)\n",
    "for epoch in range(num_epochs):\n",
    "    model.train()\n",
    "    losses = []\n",
    "    iterator = tqdm(train_dataloader)\n",
    "    for x in iterator:\n",
    "        optimizer.zero_grad()\n",
    "        user, pos, neg = x\n",
    "        user = user.cuda().long()\n",
    "        pos = pos.cuda().long()\n",
    "        neg = neg.cuda().long()\n",
    "\n",
    "        loss = -loss_func(model(user, pos, neg)).sum()\n",
    "        losses += [loss.item()]\n",
    "        loss.backward()\n",
    "        optimizer.step()\n",
    "        iterator.set_postfix_str('loss={:^7.6f}'.format(loss))\n",
    "    avg_loss = np.mean(losses)\n",
    "    print(avg_loss)\n",
    "    torch.save(model.state_dict(), f'BPR_model_{num_factors}_150.pth')"
   ]
  },
  {
   "cell_type": "code",
   "execution_count": 5,
   "id": "0a798b1b",
   "metadata": {
    "scrolled": true
   },
   "outputs": [],
   "source": [
    "model.load_state_dict(torch.load(f'BPR_model_{num_factors}_150.pth'))\n",
    "predict_mat = (model.user_mat @ model.item_mat.T).cpu().detach().numpy()"
   ]
  },
  {
   "cell_type": "code",
   "execution_count": 10,
   "id": "6a15c5da",
   "metadata": {},
   "outputs": [],
   "source": [
    "import csv\n",
    "\n",
    "ground_truth = [[] for _ in range(num_users)]\n",
    "with open('to_read.csv', newline='') as csvfile:\n",
    "    reader = csv.DictReader(csvfile)\n",
    "    for data in reader:\n",
    "        ground_truth[int(data['user_id']) - 1].append(int(data['book_id']) - 1)"
   ]
  },
  {
   "cell_type": "code",
   "execution_count": 26,
   "id": "735fc153",
   "metadata": {},
   "outputs": [
    {
     "name": "stderr",
     "output_type": "stream",
     "text": [
      "100%|██████████| 53424/53424 [02:33<00:00, 348.92it/s]"
     ]
    },
    {
     "name": "stdout",
     "output_type": "stream",
     "text": [
      "mAP: 0.013090075600550121 mP:  0.0356092805398107\n"
     ]
    },
    {
     "name": "stderr",
     "output_type": "stream",
     "text": [
      "\n"
     ]
    }
   ],
   "source": [
    "mAP = 0\n",
    "mP = 0\n",
    "count = 0\n",
    "for i in tqdm(range(num_users)):\n",
    "    ground_len = len(ground_truth[i])\n",
    "    if ground_len == 0:\n",
    "        continue\n",
    "    else:\n",
    "        ranking = (-predict_mat[i]).argsort()\n",
    "        top_count = 0\n",
    "        top = []\n",
    "        for j in range(len(ranking)):\n",
    "            if ranking[j] not in train_matrix[i].indices:\n",
    "                top.append(ranking[j])\n",
    "                top_count += 1\n",
    "                if top_count == 10:\n",
    "                    break\n",
    "        count = count + 1\n",
    "        ap = 0\n",
    "        p = 0\n",
    "        correct_count = 0\n",
    "        for j in range(len(top)):\n",
    "            if top[j] in ground_truth[i]:\n",
    "                correct_count = correct_count + 1\n",
    "                ap = ap + correct_count / (j + 1)\n",
    "                p += 1\n",
    "        if correct_count != 0:\n",
    "            ap = ap / ground_len\n",
    "            p = p / ground_len\n",
    "        else:\n",
    "            ap = 0\n",
    "            p = 0\n",
    "        mAP = mAP + ap\n",
    "        mP = mP + p\n",
    "    \n",
    "mAP = mAP / count\n",
    "precision_at_10 = mP / count\n",
    "print(\"mAP:\", mAP, 'precision@10: ', precision_at_10) "
   ]
  },
  {
   "cell_type": "code",
   "execution_count": 17,
   "id": "1e7d77c8",
   "metadata": {},
   "outputs": [],
   "source": [
    "from sklearn.metrics.pairwise import cosine_similarity\n",
    "\n",
    "new_user = np.zeros(num_books)\n",
    "book_list = [3, 5, 7]\n",
    "new_user[book_list] = 5\n",
    "new_user = new_user.reshape(1, -1)\n",
    "sim = np.array(cosine_similarity(new_user, matrix)).flatten()"
   ]
  },
  {
   "cell_type": "code",
   "execution_count": 16,
   "id": "0d902cba",
   "metadata": {
    "scrolled": true
   },
   "outputs": [
    {
     "name": "stdout",
     "output_type": "stream",
     "text": [
      "[37704  8078 14297 23000 32457 19627  7548  6428 44388  1558 15022  7247\n",
      "  8392 14751 18266 33076 47564  3908 17039  8659]\n"
     ]
    }
   ],
   "source": [
    "print((-sim).argsort()[:20])"
   ]
  },
  {
   "cell_type": "code",
   "execution_count": 54,
   "id": "bc6b1fc6",
   "metadata": {},
   "outputs": [],
   "source": [
    "new_user = np.zeros(num_books)\n",
    "book_list = [41]\n",
    "book_list = [i - 1 for i in book_list]\n",
    "new_user[book_list] = 5\n",
    "new_user = new_user.reshape(1, -1)\n",
    "sim = np.array(cosine_similarity(new_user, matrix)).flatten()"
   ]
  },
  {
   "cell_type": "code",
   "execution_count": 55,
   "id": "0a27f5ba",
   "metadata": {},
   "outputs": [
    {
     "name": "stdout",
     "output_type": "stream",
     "text": [
      "[0.30372837 0.30372837 0.23649188 0.23038784 0.21229796 0.20725667\n",
      " 0.19360077 0.19312182 0.18752289 0.18738292 0.18355577 0.1814885\n",
      " 0.17799766 0.17655614 0.1763364  0.17418325 0.17365718 0.17313584\n",
      " 0.17220915 0.1721071 ]\n"
     ]
    }
   ],
   "source": [
    "top_users = (-sim).argsort()[:20]\n",
    "print(sim[top_users])"
   ]
  },
  {
   "cell_type": "code",
   "execution_count": 56,
   "id": "ae4020d3",
   "metadata": {},
   "outputs": [
    {
     "name": "stdout",
     "output_type": "stream",
     "text": [
      "[41, 2, 159, 151, 214, 175, 1, 163, 18, 25, 21, 24, 23, 294, 27, 12, 17, 428, 370, 20]\n"
     ]
    }
   ],
   "source": [
    "pred = predict_mat[top_users].sum(axis=0)\n",
    "rank = (-pred).argsort()[:20]\n",
    "rank = [i + 1 for i in rank]\n",
    "print(rank)"
   ]
  }
 ],
 "metadata": {
  "kernelspec": {
   "display_name": "Python 3",
   "language": "python",
   "name": "python3"
  },
  "language_info": {
   "codemirror_mode": {
    "name": "ipython",
    "version": 3
   },
   "file_extension": ".py",
   "mimetype": "text/x-python",
   "name": "python",
   "nbconvert_exporter": "python",
   "pygments_lexer": "ipython3",
   "version": "3.9.5"
  }
 },
 "nbformat": 4,
 "nbformat_minor": 5
}
