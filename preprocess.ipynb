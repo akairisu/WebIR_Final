{
 "cells": [
  {
   "cell_type": "code",
   "execution_count": 1,
   "id": "41ccd4ba",
   "metadata": {},
   "outputs": [],
   "source": [
    "import csv\n",
    "import json\n",
    "from scipy import sparse\n",
    "import random\n",
    "from sklearn.model_selection import train_test_split"
   ]
  },
  {
   "cell_type": "code",
   "execution_count": 12,
   "id": "0b5ad5f4",
   "metadata": {},
   "outputs": [],
   "source": [
    "ratings = []\n",
    "with open('ratings.csv', newline='') as csvfile:\n",
    "    reader = csv.DictReader(csvfile)\n",
    "    for data in reader:\n",
    "        ratings.append(data)"
   ]
  },
  {
   "cell_type": "code",
   "execution_count": 13,
   "id": "660e2a1a",
   "metadata": {
    "scrolled": true
   },
   "outputs": [
    {
     "name": "stdout",
     "output_type": "stream",
     "text": [
      "{'user_id': '1', 'book_id': '258', 'rating': '5'}\n"
     ]
    }
   ],
   "source": [
    "print(ratings[0])"
   ]
  },
  {
   "cell_type": "code",
   "execution_count": 14,
   "id": "6ff00661",
   "metadata": {},
   "outputs": [],
   "source": [
    "rows, cols, data = [], [], []\n",
    "for rating in ratings:\n",
    "    rows.append(int(rating['user_id']) - 1)\n",
    "    cols.append(int(rating['book_id']) - 1)\n",
    "    data.append(int(rating['rating']))"
   ]
  },
  {
   "cell_type": "code",
   "execution_count": 16,
   "id": "11a74348",
   "metadata": {},
   "outputs": [],
   "source": [
    "rating_matrix = sparse.csr_matrix((data, (rows, cols)), shape=(max(rows) + 1, max(cols) + 1))\n",
    "sparse.save_npz('rating_matrix.npz', rating_matrix)"
   ]
  },
  {
   "cell_type": "code",
   "execution_count": 17,
   "id": "4f40c918",
   "metadata": {},
   "outputs": [],
   "source": [
    "rating_matrix = sparse.load_npz('rating_matrix.npz').tocoo()"
   ]
  },
  {
   "cell_type": "code",
   "execution_count": 18,
   "id": "20f9daa7",
   "metadata": {},
   "outputs": [],
   "source": [
    "n = len(rating_matrix.data)\n",
    "train_indices, test_indices = train_test_split(range(n), random_state=48763, test_size=0.1)\n",
    "data = rating_matrix.data\n",
    "row = rating_matrix.row\n",
    "col = rating_matrix.col\n",
    "train_matrix = sparse.csr_matrix((data[train_indices], (row[train_indices], col[train_indices])), shape=rating_matrix.shape)\n",
    "test_matrix = sparse.csr_matrix((data[test_indices], (row[test_indices], col[test_indices])), shape=rating_matrix.shape)\n",
    "sparse.save_npz('train_matrix.npz', train_matrix)\n",
    "sparse.save_npz('test_matrix.npz', test_matrix)"
   ]
  },
  {
   "cell_type": "code",
   "execution_count": 20,
   "id": "fc08aa5c",
   "metadata": {},
   "outputs": [
    {
     "name": "stdout",
     "output_type": "stream",
     "text": [
      "5378831 597648\n",
      "(53424, 10000)\n"
     ]
    }
   ],
   "source": [
    "print(len(train_indices), len(test_indices))\n",
    "print(rating_matrix.shape)"
   ]
  },
  {
   "cell_type": "code",
   "execution_count": 2,
   "id": "a79b8c09",
   "metadata": {},
   "outputs": [],
   "source": [
    "toreads = []\n",
    "with open('to_read.csv', newline='') as csvfile:\n",
    "    reader = csv.DictReader(csvfile)\n",
    "    for data in reader:\n",
    "        toreads.append(data)"
   ]
  },
  {
   "cell_type": "code",
   "execution_count": 5,
   "id": "64745070",
   "metadata": {},
   "outputs": [
    {
     "name": "stdout",
     "output_type": "stream",
     "text": [
      "912705\n"
     ]
    }
   ],
   "source": [
    "print(len(toreads))"
   ]
  }
 ],
 "metadata": {
  "kernelspec": {
   "display_name": "Python 3",
   "language": "python",
   "name": "python3"
  },
  "language_info": {
   "codemirror_mode": {
    "name": "ipython",
    "version": 3
   },
   "file_extension": ".py",
   "mimetype": "text/x-python",
   "name": "python",
   "nbconvert_exporter": "python",
   "pygments_lexer": "ipython3",
   "version": "3.9.5"
  }
 },
 "nbformat": 4,
 "nbformat_minor": 5
}
